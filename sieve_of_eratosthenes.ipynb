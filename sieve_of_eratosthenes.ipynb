{
  "nbformat": 4,
  "nbformat_minor": 0,
  "metadata": {
    "colab": {
      "name": "sieve_of_eratosthenes.ipynb",
      "provenance": [],
      "collapsed_sections": [],
      "toc_visible": true,
      "authorship_tag": "ABX9TyMEFzxk3xS2rjOAVfqFdwU8"
    },
    "kernelspec": {
      "name": "python3",
      "display_name": "Python 3"
    },
    "language_info": {
      "name": "python"
    }
  },
  "cells": [
    {
      "cell_type": "markdown",
      "source": [
        "Summation of Primes\n",
        "Problem 10\n",
        "\n",
        "The sum of the primes below 10 is 2 + 3 + 5 + 7 = 17.\n",
        "\n",
        "Find the sum of all the primes below two million."
      ],
      "metadata": {
        "id": "VZExZNI1zFfX"
      }
    },
    {
      "cell_type": "code",
      "execution_count": null,
      "metadata": {
        "id": "z9xnqnV7kvWv"
      },
      "outputs": [],
      "source": [
        "n = 2000000\n",
        "primes = [True]*n\n",
        "\n",
        "x = 2\n",
        "while x < n:\n",
        "  if primes[x]:\n",
        "    for i in range(2*x, n, x):\n",
        "      primes[i] = False\n",
        "    x += 1\n",
        "  else:\n",
        "    x += 1\n",
        "\n",
        "primes"
      ]
    },
    {
      "cell_type": "code",
      "source": [
        "sum_of_primes = 0\n",
        "for j in range(2, n):\n",
        "  if primes[j]:\n",
        "    sum_of_primes += j\n",
        "\n",
        "sum_of_primes"
      ],
      "metadata": {
        "colab": {
          "base_uri": "https://localhost:8080/"
        },
        "id": "Tqx4jqTUlMos",
        "outputId": "659d0909-f39c-4791-857d-11a6c793df0b"
      },
      "execution_count": 17,
      "outputs": [
        {
          "output_type": "execute_result",
          "data": {
            "text/plain": [
              "142913828922"
            ]
          },
          "metadata": {},
          "execution_count": 17
        }
      ]
    },
    {
      "cell_type": "code",
      "source": [
        ""
      ],
      "metadata": {
        "id": "RuKSXzOynMSn"
      },
      "execution_count": null,
      "outputs": []
    }
  ]
}