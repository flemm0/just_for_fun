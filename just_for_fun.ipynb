{
 "cells": [
  {
   "cell_type": "code",
   "execution_count": 101,
   "metadata": {},
   "outputs": [
    {
     "name": "stdout",
     "output_type": "stream",
     "text": [
      "906609\n"
     ]
    }
   ],
   "source": [
    "#Project Euler Question Number 4\n",
    "#Largest Palindromic Product\n",
    "def isPalindrome(num):\n",
    "    string_num = str(num)\n",
    "    reverse = string_num[::-1]\n",
    "    flag = True\n",
    "    for i in range(0, len(string_num)):\n",
    "        if string_num[i] != reverse[i]:\n",
    "            flag = False\n",
    "    return(flag)\n",
    "\n",
    "x = 999\n",
    "y = 999\n",
    "ans = 0\n",
    "for i in range(x, -1, -1):\n",
    "    for j in range(y, -1, -1):\n",
    "        if isPalindrome(i*j) == True and i*j > ans:\n",
    "            ans = i*j\n",
    "    \n",
    "print(ans)"
   ]
  },
  {
   "cell_type": "code",
   "execution_count": null,
   "metadata": {},
   "outputs": [],
   "source": [
    "#Project Euler Question Number 5\n",
    "#Smallest Multiple\n",
    "\n",
    "#2520 is the smallest number that can be divided by each of the numbers from 1 to 10 without any remainder\n",
    "#What is the smallest positive number that is evenly divisible by all of the numbers from 1 to 20?\n",
    "\n",
    "##Lol solution below##\n",
    "# import numpy as np\n",
    "\n",
    "# nums = [x for x in range(1,21)]\n",
    "# x = np.lcm.reduce(nums)\n",
    "\n",
    "# print(x)\n",
    "\n",
    "def isPrime(num):\n",
    "    flag = True\n",
    "    if num == 1:\n",
    "        flag = False\n",
    "    else:\n",
    "        for i in range(2, int(num/2)+1):\n",
    "            if num%i == 0:\n",
    "                flag = False\n",
    "    return(flag)\n",
    "\n"
   ]
  },
  {
   "cell_type": "code",
   "execution_count": 129,
   "metadata": {},
   "outputs": [
    {
     "name": "stdout",
     "output_type": "stream",
     "text": [
      "1366\n"
     ]
    }
   ],
   "source": [
    "#Project Euler Question Number 16\n",
    "#Power Digit Sum\n",
    "\n",
    "# 2**15 = 32768 and the sum of its digits is 3 + 2 + 7 + 6 + 8 = 26.\n",
    "\n",
    "# What is the sum of the digits of the number 21000?\n",
    "\n",
    "x = str(2**1000)\n",
    "arr = []\n",
    "for i in x:\n",
    "    arr.append(int(i))\n",
    "print(sum(arr)) "
   ]
  },
  {
   "cell_type": "code",
   "execution_count": 8,
   "metadata": {},
   "outputs": [
    {
     "data": {
      "text/plain": [
       "25164150"
      ]
     },
     "execution_count": 8,
     "metadata": {},
     "output_type": "execute_result"
    }
   ],
   "source": [
    "#Project Euler Question Number 6\n",
    "#Sum square difference\n",
    "\n",
    "#Find the difference between the sum of the squares of the first one hundred natural numbers and the square of the sum.\n",
    "\n",
    "a_list = list(range(1, 101))\n",
    "\n",
    "squared_list = [x**2 for x in a_list]\n",
    "\n",
    "sum(a_list)**2 - sum(squared_list)"
   ]
  },
  {
   "cell_type": "code",
   "execution_count": null,
   "metadata": {},
   "outputs": [],
   "source": []
  }
 ],
 "metadata": {
  "kernelspec": {
   "display_name": "Python 3",
   "language": "python",
   "name": "python3"
  },
  "language_info": {
   "codemirror_mode": {
    "name": "ipython",
    "version": 3
   },
   "file_extension": ".py",
   "mimetype": "text/x-python",
   "name": "python",
   "nbconvert_exporter": "python",
   "pygments_lexer": "ipython3",
   "version": "3.8.5"
  }
 },
 "nbformat": 4,
 "nbformat_minor": 5
}
